{
 "cells": [
  {
   "cell_type": "code",
   "execution_count": 1,
   "metadata": {
    "collapsed": true
   },
   "outputs": [],
   "source": [
    "import numpy as np # linear algebra\n",
    "import pandas as pd # data processing, CSV file I/O (e.g. pd.read_csv)\n",
    "import time\n",
    "# Input data files are available in the \"../input/\" directory.\n",
    "# For example, running this (by clicking run or pressing Shift+Enter) will list the files in the input directory\n",
    "\n",
    "# Any results you write to the current directory are saved as output.\n",
    "\n",
    "from sklearn.metrics import mean_squared_error\n",
    "from sklearn import model_selection\n",
    "from catboost import CatBoostRegressor\n",
    "from sklearn.decomposition import PCA\n",
    "from sklearn.cluster import DBSCAN"
   ]
  },
  {
   "cell_type": "code",
   "execution_count": 2,
   "metadata": {
    "collapsed": true
   },
   "outputs": [],
   "source": [
    "import matplotlib.pyplot as plt"
   ]
  },
  {
   "cell_type": "code",
   "execution_count": 3,
   "metadata": {
    "collapsed": true
   },
   "outputs": [],
   "source": [
    "%matplotlib inline"
   ]
  },
  {
   "cell_type": "code",
   "execution_count": 4,
   "metadata": {
    "collapsed": true
   },
   "outputs": [],
   "source": [
    "def rmsle(h, y): \n",
    "    \"\"\"\n",
    "    Compute the Root Mean Squared Log Error for hypthesis h and targets y\n",
    "\n",
    "    Args:\n",
    "        h - numpy array containing predictions with shape (n_samples, n_targets)\n",
    "        y - numpy array containing targets with shape (n_samples, n_targets)\n",
    "    \"\"\"\n",
    "    return np.sqrt(np.square(np.log(h + 1) - np.log(y + 1)).mean())\n",
    "\n",
    "\n",
    "train = pd.read_csv(\"../data/train-290118.csv\")\n",
    "test = pd.read_csv(\"../data/test_290118.csv\")\n",
    "test_id=test.id"
   ]
  },
  {
   "cell_type": "code",
   "execution_count": 5,
   "metadata": {
    "collapsed": true
   },
   "outputs": [],
   "source": [
    "vector = np.vstack((train[['lattice_vector_1_ang', 'lattice_vector_2_ang','lattice_vector_3_ang']].values,\n",
    "                    test[['lattice_vector_1_ang', 'lattice_vector_2_ang','lattice_vector_3_ang']].values))\n",
    "\n",
    "pca = PCA().fit(vector)\n",
    "train['vector_pca0'] = pca.transform(train[['lattice_vector_1_ang', 'lattice_vector_2_ang','lattice_vector_3_ang']])[:, 0]\n",
    "test['vector_pca0'] = pca.transform(test[['lattice_vector_1_ang', 'lattice_vector_2_ang','lattice_vector_3_ang']])[:, 0]\n"
   ]
  },
  {
   "cell_type": "code",
   "execution_count": 6,
   "metadata": {
    "collapsed": true
   },
   "outputs": [],
   "source": [
    "dist_features = [x for x in train.columns.tolist() if x.startswith('dist')]\n",
    "path_features = [x for x in train.columns.tolist() if x.startswith('path')]\n",
    "angle_features = [x for x in train.columns.tolist() if x.startswith('angle')]\n",
    "dihedral_features = [x for x in train.columns.tolist() if x.startswith('dihedral')]\n",
    "percent_features = [x for x in train.columns.tolist() if x.startswith('percent')]\n",
    "avg_features = [x for x in train.columns.tolist() if x.startswith('avg')]\n",
    "lattice_angle_features = [x for x in train.columns.tolist() if x.startswith('lattice_angle')]\n",
    "clusters_features = [x for x in train.columns.tolist() if x.startswith('clusters_')]"
   ]
  },
  {
   "cell_type": "code",
   "execution_count": 5,
   "metadata": {
    "collapsed": true
   },
   "outputs": [],
   "source": [
    "features_fe = ['lattice_angle_alpha_degree',\n",
    "               'lattice_angle_gamma_degree',\n",
    "               'number_of_total_atoms',\n",
    "               'vol',\n",
    "               'atomic_density',\n",
    "               'lattice_vector_1_ang',\n",
    "               'lattice_vector_2_ang',\n",
    "               'lattice_vector_3_ang',\n",
    "               'vector_pca0']+avg_features+percent_features+dist_features+angle_features+dihedral_features"
   ]
  },
  {
   "cell_type": "code",
   "execution_count": 7,
   "metadata": {
    "collapsed": true
   },
   "outputs": [],
   "source": [
    "feature_engineering =['avg_IP',\n",
    "                     'avg_rd_max',\n",
    "                     'avg_LUMO',\n",
    "                     'avg_electronegativity',\n",
    "                     'avg_rp_max',\n",
    "                     'percent_atom_in',\n",
    "                     'percent_atom_al',\n",
    "                     'percent_atom_ga',\n",
    "                     'dist_23',\n",
    "                     'dist_25',\n",
    "                     'dist_16',\n",
    "                     'dist_46',\n",
    "                     'dist_15',\n",
    "                     'dist_40',\n",
    "                     'dist_33',\n",
    "                     'dist_29',\n",
    "                     'dist_18',\n",
    "                     'dist_8',\n",
    "                     'dist_77',\n",
    "                     'dist_65',\n",
    "                     'dist_47',\n",
    "                     'dist_20',\n",
    "                     'dist_30',\n",
    "                     'dist_49',\n",
    "                     'path_30',\n",
    "                     'path_20',\n",
    "                     'path_10',\n",
    "                     'path_0',\n",
    "                     'path_40',\n",
    "                     'path_49',\n",
    "                     'angle_179',\n",
    "                     'angle_86',\n",
    "                     'angle_169',\n",
    "                     'angle_171',\n",
    "                     'angle_95',\n",
    "                     'angle_93',\n",
    "                     'angle_121',\n",
    "                     'angle_89',\n",
    "                     'angle_108',\n",
    "                     'angle_91',\n",
    "                     'angle_165',\n",
    "                     'dihedral_75',\n",
    "                     'dihedral_154',\n",
    "                     'dihedral_66',\n",
    "                     'dihedral_7',\n",
    "                     'dihedral_178',\n",
    "                     'dihedral_97',\n",
    "                     'dihedral_85',\n",
    "                     'dihedral_131',\n",
    "                     'dihedral_24',\n",
    "                     'dihedral_91',\n",
    "                     'dihedral_135',\n",
    "                     'dihedral_79',\n",
    "                     'dihedral_177',\n",
    "                     'dihedral_119',\n",
    "                     'dihedral_2',\n",
    "                     'A_8',\n",
    "                     'A_5',\n",
    "                     'A_3',\n",
    "                     'A_2',\n",
    "                     'A_0',\n",
    "                     'A_7',\n",
    "                     'A_6',\n",
    "                     'A_1',\n",
    "                     'A_4',\n",
    "                     'B_8',\n",
    "                     'B_6',\n",
    "                     'B_5',\n",
    "                     'B_2',\n",
    "                     'B_3',\n",
    "                     'B_1',\n",
    "                     'B_0',\n",
    "                     'B_7',\n",
    "                     'B_4',\n",
    "                     'R_1',\n",
    "                     'R_2',\n",
    "                     'R_0',\n",
    "                     'r_2',\n",
    "                     'r_1',\n",
    "                     'r_0',\n",
    "                     'lattice_angle_sum_discrete_215',\n",
    "                     'lattice_angle_sum_discrete_270',\n",
    "                     'lattice_angle_sum_discrete_285',\n",
    "                     'lattice_angle_sum_discrete_300',\n",
    "                     'clusters_0',\n",
    "                     'clusters_1',\n",
    "                     'clusters_2',\n",
    "                     'clusters_3',\n",
    "                     'clusters_4',\n",
    "                     'clusters_5',\n",
    "                     'clusters_6',\n",
    "                     'clusters_7',\n",
    "                     'clusters_8',\n",
    "                     'clusters_9',\n",
    "                     'clusters_10']"
   ]
  },
  {
   "cell_type": "code",
   "execution_count": 8,
   "metadata": {},
   "outputs": [],
   "source": [
    "X = train[feature_engineering]\n",
    "Y_fe = np.log(train['formation_energy_ev_natom']+1)\n",
    "Y_be = np.log(train['bandgap_energy_ev']+1)\n",
    "\n",
    "test = test[feature_engineering]"
   ]
  },
  {
   "cell_type": "code",
   "execution_count": 34,
   "metadata": {
    "collapsed": true
   },
   "outputs": [],
   "source": [
    "def runCatBoost(x_train, y_train,x_test, y_test,test,depth):\n",
    "    model=CatBoostRegressor(iterations=2400,\n",
    "                            learning_rate=0.01,\n",
    "                            depth=depth,\n",
    "                            loss_function='RMSE',\n",
    "                            eval_metric='RMSE',\n",
    "                            random_seed=99,\n",
    "                            l2_leaf_reg=4,\n",
    "                            od_type='Iter',\n",
    "                            task_type='CPU',\n",
    "                            od_wait=50)\n",
    "    model.fit(x_train, y_train, eval_set=(x_test, y_test), use_best_model=True, logging_level='Silent')\n",
    "    y_pred_train=model.predict(x_test)\n",
    "    rmsle_result = rmsle(y_pred_train,y_test)\n",
    "    y_pred_test=model.predict(test)\n",
    "    return y_pred_train,rmsle_result,y_pred_test\n"
   ]
  },
  {
   "cell_type": "code",
   "execution_count": 35,
   "metadata": {
    "scrolled": true
   },
   "outputs": [
    {
     "name": "stdout",
     "output_type": "stream",
     "text": [
      "this took 112.05-seconds with a mean validation rmsle of 0.02526\n"
     ]
    }
   ],
   "source": [
    "t = time.time()\n",
    "cvs = []\n",
    "kf = model_selection.KFold(n_splits=4, shuffle=True, random_state=30)#.ShuffleSplit(n_splits=10, test_size=.1)#KFold(n_splits=10, shuffle=True, random_state=30)\n",
    "for dev_index, val_index in kf.split(X):\n",
    "    dev_X, val_X = X.loc[dev_index], X.loc[val_index]\n",
    "    dev_y, val_y = Y_fe.loc[dev_index], Y_fe.loc[val_index]\n",
    "    y_pred_feen,rmsle_feen,y_pred_test_feen=runCatBoost(dev_X, dev_y, val_X, val_y,test,depth=8)\n",
    "    cvs.append(rmsle_feen)\n",
    "\n",
    "print('this took {0:.02f}-seconds with a mean validation rmsle of {1:.05f}'.format(time.time()-t, np.mean(cvs)))"
   ]
  },
  {
   "cell_type": "raw",
   "metadata": {},
   "source": [
    "this took 90.63-seconds with a mean validation rmsle of 0.02526"
   ]
  },
  {
   "cell_type": "code",
   "execution_count": null,
   "metadata": {
    "collapsed": true
   },
   "outputs": [],
   "source": []
  },
  {
   "cell_type": "code",
   "execution_count": 67,
   "metadata": {},
   "outputs": [
    {
     "name": "stdout",
     "output_type": "stream",
     "text": [
      "this took 171.48-seconds with a mean validation rmsle of 0.03\n"
     ]
    }
   ],
   "source": [
    "print('this took {0:.02f}-seconds with a mean validation rmsle of {1:.02f}'.format(time.time()-t, np.mean(cvs)))"
   ]
  },
  {
   "cell_type": "code",
   "execution_count": 33,
   "metadata": {},
   "outputs": [
    {
     "name": "stdout",
     "output_type": "stream",
     "text": [
      "this learning rate of 0.009 took 130.87-seconds with a mean validation rmsle of 0.02608 +/- 0.00151\n",
      "this learning rate of 0.009 took 126.97-seconds with a mean validation rmsle of 0.02605 +/- 0.00144\n",
      "this learning rate of 0.010 took 128.66-seconds with a mean validation rmsle of 0.02603 +/- 0.00148\n",
      "this learning rate of 0.010 took 119.16-seconds with a mean validation rmsle of 0.02598 +/- 0.00154\n",
      "this learning rate of 0.010 took 126.30-seconds with a mean validation rmsle of 0.02597 +/- 0.00152\n",
      "this learning rate of 0.010 took 124.13-seconds with a mean validation rmsle of 0.02599 +/- 0.00155\n",
      "this learning rate of 0.011 took 112.95-seconds with a mean validation rmsle of 0.02598 +/- 0.00150\n",
      "this learning rate of 0.011 took 108.05-seconds with a mean validation rmsle of 0.02608 +/- 0.00157\n",
      "this learning rate of 0.011 took 109.75-seconds with a mean validation rmsle of 0.02605 +/- 0.00148\n",
      "this learning rate of 0.011 took 114.02-seconds with a mean validation rmsle of 0.02601 +/- 0.00150\n",
      "this learning rate of 0.012 took 101.33-seconds with a mean validation rmsle of 0.02605 +/- 0.00152\n",
      "this learning rate of 0.012 took 100.61-seconds with a mean validation rmsle of 0.02604 +/- 0.00153\n"
     ]
    },
    {
     "ename": "KeyboardInterrupt",
     "evalue": "",
     "output_type": "error",
     "traceback": [
      "\u001b[0;31m---------------------------------------------------------------------------\u001b[0m",
      "\u001b[0;31mKeyboardInterrupt\u001b[0m                         Traceback (most recent call last)",
      "\u001b[0;32m<ipython-input-33-86ffe112bfed>\u001b[0m in \u001b[0;36m<module>\u001b[0;34m()\u001b[0m\n\u001b[1;32m      7\u001b[0m         \u001b[0mdev_X\u001b[0m\u001b[0;34m,\u001b[0m \u001b[0mval_X\u001b[0m \u001b[0;34m=\u001b[0m \u001b[0mX\u001b[0m\u001b[0;34m.\u001b[0m\u001b[0mloc\u001b[0m\u001b[0;34m[\u001b[0m\u001b[0mdev_index\u001b[0m\u001b[0;34m]\u001b[0m\u001b[0;34m,\u001b[0m \u001b[0mX\u001b[0m\u001b[0;34m.\u001b[0m\u001b[0mloc\u001b[0m\u001b[0;34m[\u001b[0m\u001b[0mval_index\u001b[0m\u001b[0;34m]\u001b[0m\u001b[0;34m\u001b[0m\u001b[0m\n\u001b[1;32m      8\u001b[0m         \u001b[0mdev_y\u001b[0m\u001b[0;34m,\u001b[0m \u001b[0mval_y\u001b[0m \u001b[0;34m=\u001b[0m \u001b[0mY_fe\u001b[0m\u001b[0;34m.\u001b[0m\u001b[0mloc\u001b[0m\u001b[0;34m[\u001b[0m\u001b[0mdev_index\u001b[0m\u001b[0;34m]\u001b[0m\u001b[0;34m,\u001b[0m \u001b[0mY_fe\u001b[0m\u001b[0;34m.\u001b[0m\u001b[0mloc\u001b[0m\u001b[0;34m[\u001b[0m\u001b[0mval_index\u001b[0m\u001b[0;34m]\u001b[0m\u001b[0;34m\u001b[0m\u001b[0m\n\u001b[0;32m----> 9\u001b[0;31m         \u001b[0my_pred_feen\u001b[0m\u001b[0;34m,\u001b[0m\u001b[0mrmsle_feen\u001b[0m\u001b[0;34m,\u001b[0m\u001b[0my_pred_test_feen\u001b[0m\u001b[0;34m=\u001b[0m\u001b[0mrunCatBoost\u001b[0m\u001b[0;34m(\u001b[0m\u001b[0mdev_X\u001b[0m\u001b[0;34m,\u001b[0m \u001b[0mdev_y\u001b[0m\u001b[0;34m,\u001b[0m \u001b[0mval_X\u001b[0m\u001b[0;34m,\u001b[0m \u001b[0mval_y\u001b[0m\u001b[0;34m,\u001b[0m\u001b[0mtest\u001b[0m\u001b[0;34m,\u001b[0m\u001b[0mlr\u001b[0m\u001b[0;34m=\u001b[0m\u001b[0mlr\u001b[0m\u001b[0;34m)\u001b[0m\u001b[0;34m\u001b[0m\u001b[0m\n\u001b[0m\u001b[1;32m     10\u001b[0m         \u001b[0mcvs\u001b[0m\u001b[0;34m.\u001b[0m\u001b[0mappend\u001b[0m\u001b[0;34m(\u001b[0m\u001b[0mrmsle_feen\u001b[0m\u001b[0;34m)\u001b[0m\u001b[0;34m\u001b[0m\u001b[0m\n\u001b[1;32m     11\u001b[0m     \u001b[0mlearning_dict\u001b[0m\u001b[0;34m[\u001b[0m\u001b[0mlr\u001b[0m\u001b[0;34m]\u001b[0m\u001b[0;34m=\u001b[0m\u001b[0mcvs\u001b[0m\u001b[0;34m\u001b[0m\u001b[0m\n",
      "\u001b[0;32m<ipython-input-32-1e396c4d81e6>\u001b[0m in \u001b[0;36mrunCatBoost\u001b[0;34m(x_train, y_train, x_test, y_test, test, lr)\u001b[0m\n\u001b[1;32m     10\u001b[0m                             \u001b[0mtask_type\u001b[0m\u001b[0;34m=\u001b[0m\u001b[0;34m'CPU'\u001b[0m\u001b[0;34m,\u001b[0m\u001b[0;34m\u001b[0m\u001b[0m\n\u001b[1;32m     11\u001b[0m                             od_wait=50)\n\u001b[0;32m---> 12\u001b[0;31m     \u001b[0mmodel\u001b[0m\u001b[0;34m.\u001b[0m\u001b[0mfit\u001b[0m\u001b[0;34m(\u001b[0m\u001b[0mx_train\u001b[0m\u001b[0;34m,\u001b[0m \u001b[0my_train\u001b[0m\u001b[0;34m,\u001b[0m \u001b[0meval_set\u001b[0m\u001b[0;34m=\u001b[0m\u001b[0;34m(\u001b[0m\u001b[0mx_test\u001b[0m\u001b[0;34m,\u001b[0m \u001b[0my_test\u001b[0m\u001b[0;34m)\u001b[0m\u001b[0;34m,\u001b[0m \u001b[0muse_best_model\u001b[0m\u001b[0;34m=\u001b[0m\u001b[0;32mTrue\u001b[0m\u001b[0;34m,\u001b[0m \u001b[0mlogging_level\u001b[0m\u001b[0;34m=\u001b[0m\u001b[0;34m'Silent'\u001b[0m\u001b[0;34m)\u001b[0m\u001b[0;34m\u001b[0m\u001b[0m\n\u001b[0m\u001b[1;32m     13\u001b[0m     \u001b[0my_pred_train\u001b[0m\u001b[0;34m=\u001b[0m\u001b[0mmodel\u001b[0m\u001b[0;34m.\u001b[0m\u001b[0mpredict\u001b[0m\u001b[0;34m(\u001b[0m\u001b[0mx_test\u001b[0m\u001b[0;34m)\u001b[0m\u001b[0;34m\u001b[0m\u001b[0m\n\u001b[1;32m     14\u001b[0m     \u001b[0mrmsle_result\u001b[0m \u001b[0;34m=\u001b[0m \u001b[0mrmsle\u001b[0m\u001b[0;34m(\u001b[0m\u001b[0my_pred_train\u001b[0m\u001b[0;34m,\u001b[0m\u001b[0my_test\u001b[0m\u001b[0;34m)\u001b[0m\u001b[0;34m\u001b[0m\u001b[0m\n",
      "\u001b[0;32m~/anaconda3/lib/python3.6/site-packages/catboost/core.py\u001b[0m in \u001b[0;36mfit\u001b[0;34m(self, X, y, cat_features, sample_weight, baseline, use_best_model, eval_set, verbose, logging_level, plot)\u001b[0m\n\u001b[1;32m   1587\u001b[0m         \u001b[0mmodel\u001b[0m \u001b[0;34m:\u001b[0m \u001b[0mCatBoost\u001b[0m\u001b[0;34m\u001b[0m\u001b[0m\n\u001b[1;32m   1588\u001b[0m         \"\"\"\n\u001b[0;32m-> 1589\u001b[0;31m         \u001b[0;32mreturn\u001b[0m \u001b[0mself\u001b[0m\u001b[0;34m.\u001b[0m\u001b[0m_fit\u001b[0m\u001b[0;34m(\u001b[0m\u001b[0mX\u001b[0m\u001b[0;34m,\u001b[0m \u001b[0my\u001b[0m\u001b[0;34m,\u001b[0m \u001b[0mcat_features\u001b[0m\u001b[0;34m,\u001b[0m \u001b[0;32mNone\u001b[0m\u001b[0;34m,\u001b[0m \u001b[0msample_weight\u001b[0m\u001b[0;34m,\u001b[0m \u001b[0;32mNone\u001b[0m\u001b[0;34m,\u001b[0m \u001b[0;32mNone\u001b[0m\u001b[0;34m,\u001b[0m \u001b[0mbaseline\u001b[0m\u001b[0;34m,\u001b[0m \u001b[0muse_best_model\u001b[0m\u001b[0;34m,\u001b[0m \u001b[0meval_set\u001b[0m\u001b[0;34m,\u001b[0m \u001b[0mverbose\u001b[0m\u001b[0;34m,\u001b[0m \u001b[0mlogging_level\u001b[0m\u001b[0;34m,\u001b[0m \u001b[0mplot\u001b[0m\u001b[0;34m)\u001b[0m\u001b[0;34m\u001b[0m\u001b[0m\n\u001b[0m\u001b[1;32m   1590\u001b[0m \u001b[0;34m\u001b[0m\u001b[0m\n\u001b[1;32m   1591\u001b[0m     \u001b[0;32mdef\u001b[0m \u001b[0mpredict\u001b[0m\u001b[0;34m(\u001b[0m\u001b[0mself\u001b[0m\u001b[0;34m,\u001b[0m \u001b[0mdata\u001b[0m\u001b[0;34m,\u001b[0m \u001b[0mntree_start\u001b[0m\u001b[0;34m=\u001b[0m\u001b[0;36m0\u001b[0m\u001b[0;34m,\u001b[0m \u001b[0mntree_end\u001b[0m\u001b[0;34m=\u001b[0m\u001b[0;36m0\u001b[0m\u001b[0;34m,\u001b[0m \u001b[0mthread_count\u001b[0m\u001b[0;34m=\u001b[0m\u001b[0;36m1\u001b[0m\u001b[0;34m,\u001b[0m \u001b[0mverbose\u001b[0m\u001b[0;34m=\u001b[0m\u001b[0;32mNone\u001b[0m\u001b[0;34m)\u001b[0m\u001b[0;34m:\u001b[0m\u001b[0;34m\u001b[0m\u001b[0m\n",
      "\u001b[0;32m~/anaconda3/lib/python3.6/site-packages/catboost/core.py\u001b[0m in \u001b[0;36m_fit\u001b[0;34m(self, X, y, cat_features, pairs, sample_weight, query_id, pairs_weight, baseline, use_best_model, eval_set, verbose, logging_level, plot)\u001b[0m\n\u001b[1;32m    571\u001b[0m                 \u001b[0;32mraise\u001b[0m \u001b[0mImportError\u001b[0m\u001b[0;34m(\u001b[0m\u001b[0mstr\u001b[0m\u001b[0;34m(\u001b[0m\u001b[0me\u001b[0m\u001b[0;34m)\u001b[0m\u001b[0;34m)\u001b[0m\u001b[0;34m\u001b[0m\u001b[0m\n\u001b[1;32m    572\u001b[0m         \u001b[0;32mwith\u001b[0m \u001b[0mlog_fixup\u001b[0m\u001b[0;34m(\u001b[0m\u001b[0;34m)\u001b[0m\u001b[0;34m:\u001b[0m\u001b[0;34m\u001b[0m\u001b[0m\n\u001b[0;32m--> 573\u001b[0;31m             \u001b[0mself\u001b[0m\u001b[0;34m.\u001b[0m\u001b[0m_train\u001b[0m\u001b[0;34m(\u001b[0m\u001b[0mX\u001b[0m\u001b[0;34m,\u001b[0m \u001b[0meval_set\u001b[0m\u001b[0;34m,\u001b[0m \u001b[0mparams\u001b[0m\u001b[0;34m)\u001b[0m\u001b[0;34m\u001b[0m\u001b[0m\n\u001b[0m\u001b[1;32m    574\u001b[0m         \u001b[0;32mif\u001b[0m \u001b[0mcalc_feature_importance\u001b[0m\u001b[0;34m:\u001b[0m\u001b[0;34m\u001b[0m\u001b[0m\n\u001b[1;32m    575\u001b[0m             \u001b[0msetattr\u001b[0m\u001b[0;34m(\u001b[0m\u001b[0mself\u001b[0m\u001b[0;34m,\u001b[0m \u001b[0;34m\"_feature_importance\"\u001b[0m\u001b[0;34m,\u001b[0m \u001b[0mself\u001b[0m\u001b[0;34m.\u001b[0m\u001b[0mget_feature_importance\u001b[0m\u001b[0;34m(\u001b[0m\u001b[0mX\u001b[0m\u001b[0;34m)\u001b[0m\u001b[0;34m)\u001b[0m\u001b[0;34m\u001b[0m\u001b[0m\n",
      "\u001b[0;32m_catboost.pyx\u001b[0m in \u001b[0;36m_catboost._CatBoostBase._train\u001b[0;34m()\u001b[0m\n",
      "\u001b[0;32m_catboost.pyx\u001b[0m in \u001b[0;36m_catboost._CatBoost._train\u001b[0;34m()\u001b[0m\n",
      "\u001b[0;32m_catboost.pyx\u001b[0m in \u001b[0;36m_catboost._CatBoost._train\u001b[0;34m()\u001b[0m\n",
      "\u001b[0;31mKeyboardInterrupt\u001b[0m: "
     ]
    }
   ],
   "source": [
    "learning_dict={}\n",
    "for lr in np.linspace(0.009,0.014,20):\n",
    "    t = time.time()\n",
    "    cvs = []\n",
    "    kf = model_selection.ShuffleSplit(n_splits=4,test_size=0.25, random_state=30)\n",
    "    for dev_index, val_index in kf.split(X):\n",
    "        dev_X, val_X = X.loc[dev_index], X.loc[val_index]\n",
    "        dev_y, val_y = Y_fe.loc[dev_index], Y_fe.loc[val_index]\n",
    "        y_pred_feen,rmsle_feen,y_pred_test_feen=runCatBoost(dev_X, dev_y, val_X, val_y,test,lr=lr)\n",
    "        cvs.append(rmsle_feen)\n",
    "    learning_dict[lr]=cvs\n",
    "    print('this learning rate of {0:.03f} took {1:.02f}-seconds with a mean validation rmsle of {2:.05f} +/- {3:.05f}'.format(lr, time.time()-t, np.mean(cvs), np.std(cvs)))\n",
    "train_mean = np.array([np.mean(x) for x in list(learning_dict.values())])\n",
    "train_std = np.array([np.std(x) for x in list(learning_dict.values())])\n",
    "\n",
    "plt.plot(np.linspace(0.009,0.014,20), train_mean, color='blue', marker='o', markersize=5, label='Depth score')\n",
    "plt.fill_between(np.linspace(0.009,0.014,20), train_mean + train_std, train_mean - train_std, alpha=.1, color='blue')\n",
    "\n",
    "plt.grid()\n",
    "\n",
    "plt.xlabel('Learning rate')\n",
    "plt.ylabel('Score')\n",
    "plt.legend(loc='upper left')\n",
    "plt.ylim([0.025, 0.027])\n",
    "plt.show()"
   ]
  },
  {
   "cell_type": "code",
   "execution_count": null,
   "metadata": {
    "collapsed": true
   },
   "outputs": [],
   "source": [
    "t = time.time()\n",
    "\n",
    "depth_dict={}\n",
    "for depth in range(10):\n",
    "    cvs = []\n",
    "    kf = model_selection.KFold(n_splits=5, shuffle=True, random_state=30)#.ShuffleSplit(n_splits=10, test_size=.1)#KFold(n_splits=10, shuffle=True, random_state=30)\n",
    "    for dev_index, val_index in kf.split(X):\n",
    "        dev_X, val_X = X.loc[dev_index], X.loc[val_index]\n",
    "        dev_y, val_y = Y_fe.loc[dev_index], Y_fe.loc[val_index]\n",
    "        y_pred_feen,rmsle_feen,y_pred_test_feen=runCatBoost(dev_X, dev_y, val_X, val_y,test,depth=depth)\n",
    "        cvs.append(rmsle_feen)\n",
    "    depth_dict[depth]=cvs\n",
    "    print('this took {}-seconds with a mean validation rmsle of {}'.format(time.time()-t, np.mean(cvs)))"
   ]
  },
  {
   "cell_type": "code",
   "execution_count": 57,
   "metadata": {},
   "outputs": [
    {
     "data": {
      "image/png": "[encoded data removed]",
      "text/plain": [
       "<matplotlib.figure.Figure at 0x7f3714787fd0>"
      ]
     },
     "metadata": {},
     "output_type": "display_data"
    }
   ],
   "source": [
    "train_mean = np.mean(list(depth_dict.values()), axis=1)\n",
    "train_std = np.std(list(depth_dict.values()), axis=1)\n",
    "\n",
    "\n",
    "# Add plot of training accuracy\n",
    "plt.plot(list(depth_dict.keys()), train_mean, color='blue', marker='o', markersize=5, label='Validation score')\n",
    "# Add standard deviation\n",
    "plt.fill_between(list(depth_dict.keys()), train_mean + train_std, train_mean - train_std, alpha=.1, color='blue')\n",
    "\n",
    "\n",
    "plt.grid()\n",
    "\n",
    "plt.xlabel('Number of training samples')\n",
    "plt.ylabel('Accuracy')\n",
    "plt.legend(loc='lower right')\n",
    "plt.xlim([2, 9])\n",
    "plt.ylim([0.025, 0.028])\n",
    "plt.show()"
   ]
  },
  {
   "cell_type": "code",
   "execution_count": 74,
   "metadata": {},
   "outputs": [
    {
     "name": "stdout",
     "output_type": "stream",
     "text": [
      "this took 44.42-seconds with a mean validation rmsle of 0.02714\n",
      "this took 104.75-seconds with a mean validation rmsle of 0.02594\n",
      "this took 171.21-seconds with a mean validation rmsle of 0.02506\n",
      "this took 259.48-seconds with a mean validation rmsle of 0.02535\n",
      "this took 383.92-seconds with a mean validation rmsle of 0.02551\n",
      "this took 516.85-seconds with a mean validation rmsle of 0.02570\n",
      "this took 671.35-seconds with a mean validation rmsle of 0.02496\n",
      "this took 867.04-seconds with a mean validation rmsle of 0.02549\n",
      "this took 1082.12-seconds with a mean validation rmsle of 0.02678\n",
      "this took 1305.66-seconds with a mean validation rmsle of 0.02545\n",
      "this took 1534.65-seconds with a mean validation rmsle of 0.02605\n",
      "this took 1767.19-seconds with a mean validation rmsle of 0.02621\n",
      "this took 2024.66-seconds with a mean validation rmsle of 0.02675\n"
     ]
    }
   ],
   "source": [
    "t = time.time()\n",
    "\n",
    "depth_dict_stra_shuffle={}\n",
    "for splits in range(2,15):\n",
    "    cvs = []\n",
    "    kf = model_selection.StratifiedShuffleSplit(n_splits=splits, test_size=1/splits, random_state=1988)#KFold(n_splits=10, shuffle=True, random_state=30)\n",
    "    for dev_index, val_index in kf.split(X,train['clusters'].values):\n",
    "        dev_X, val_X = X.loc[dev_index], X.loc[val_index]\n",
    "        dev_y, val_y = Y_fe.loc[dev_index], Y_fe.loc[val_index]\n",
    "        y_pred_feen,rmsle_feen,y_pred_test_feen=runCatBoost(dev_X, dev_y, val_X, val_y,test,depth=8)\n",
    "        cvs.append(rmsle_feen)\n",
    "    depth_dict_stra_shuffle[splits]=cvs\n",
    "    print('this took {0:.02f}-seconds with a mean validation rmsle of {1:.05f}'.format(time.time()-t, np.mean(cvs)))"
   ]
  },
  {
   "cell_type": "code",
   "execution_count": 81,
   "metadata": {},
   "outputs": [
    {
     "data": {
      "image/png": "[encoded data removed]",
      "text/plain": [
       "<matplotlib.figure.Figure at 0x7f3732129be0>"
      ]
     },
     "metadata": {},
     "output_type": "display_data"
    }
   ],
   "source": [
    "train_mean = np.array([np.mean(x) for x in list(depth_dict_stra_shuffle.values())])\n",
    "train_std = np.array([np.std(x) for x in list(depth_dict_stra_shuffle.values())])\n",
    "\n",
    "\n",
    "# Add plot of training accuracy\n",
    "plt.plot(list(range(2,15)), train_mean, color='blue', marker='o', markersize=5, label='Validation score')\n",
    "# Add standard deviation\n",
    "plt.fill_between(list(range(2,15)), train_mean + train_std, train_mean - train_std, alpha=.1, color='blue')\n",
    "\n",
    "\n",
    "plt.grid()\n",
    "\n",
    "plt.xlabel('Number of splits')\n",
    "plt.ylabel('Score')\n",
    "plt.legend(loc='lower right')\n",
    "plt.xlim([2, 14])\n",
    "plt.ylim([0.02, 0.028])\n",
    "plt.show()"
   ]
  },
  {
   "cell_type": "raw",
   "metadata": {},
   "source": [
    "depth = 4\n",
    "this took 141.0668134689331-seconds with a mean validation rmsle of 0.025864054917548868"
   ]
  },
  {
   "cell_type": "code",
   "execution_count": null,
   "metadata": {
    "collapsed": true
   },
   "outputs": [],
   "source": [
    "bestTest = 0.03425358731\n",
    "bestIteration = 1200\n",
    "this took 66.26484608650208-seconds with a mean validation rmsle of 0.026918040956777013"
   ]
  },
  {
   "cell_type": "raw",
   "metadata": {},
   "source": [
    "this took 102.55528688430786-seconds with a mean validation rmsle of 0.03288776449102178"
   ]
  },
  {
   "cell_type": "code",
   "execution_count": null,
   "metadata": {
    "collapsed": true
   },
   "outputs": [],
   "source": [
    "kf = model_selection.KFold(n_splits=10, shuffle=True, random_state=30)\n",
    "for dev_index, val_index in kf.split(X):\n",
    "    dev_X, val_X = X.loc[dev_index], X.loc[val_index]\n",
    "    dev_y, val_y = Y_bee.loc[dev_index], Y_bee.loc[val_index]\n",
    "    y_pred_bee,rmsle_bee,y_pred_test_bee=runCatBoost(dev_X, dev_y, val_X, val_y,test,depth=4)\n",
    "print(\"Mean cv score : \", np.mean(rmsle_bee))"
   ]
  },
  {
   "cell_type": "code",
   "execution_count": null,
   "metadata": {
    "collapsed": true
   },
   "outputs": [],
   "source": [
    "sub=pd.DataFrame()\n",
    "sub[\"id\"]=test_id\n",
    "sub[\"formation_energy_ev_natom\"]=np.exp(y_pred_test_feen)-1\n",
    "sub[\"bandgap_energy_ev\"]=np.exp(y_pred_test_bee)-1\n",
    "rmsle_total=np.mean([rmsle_bee,rmsle_feen])\n",
    "print(rmsle_total)\n",
    "sub.to_csv(str(rmsle_total)+\"_.csv\",index=False)"
   ]
  }
 ],
 "metadata": {
  "kernelspec": {
   "display_name": "Python 3",
   "language": "python",
   "name": "python3"
  },
  "language_info": {
   "codemirror_mode": {
    "name": "ipython",
    "version": 3
   },
   "file_extension": ".py",
   "mimetype": "text/x-python",
   "name": "python",
   "nbconvert_exporter": "python",
   "pygments_lexer": "ipython3",
   "version": "3.6.2"
  }
 },
 "nbformat": 4,
 "nbformat_minor": 2
}
