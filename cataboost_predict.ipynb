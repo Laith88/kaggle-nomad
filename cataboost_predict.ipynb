{
 "cells": [
  {
   "cell_type": "code",
   "execution_count": 1,
   "metadata": {
    "collapsed": true
   },
   "outputs": [],
   "source": [
    "import numpy as np\n",
    "import pandas as pd \n",
    "import time\n",
    "\n",
    "from sklearn.metrics import mean_squared_error\n",
    "from sklearn import model_selection\n",
    "from catboost import CatBoostRegressor"
   ]
  },
  {
   "cell_type": "code",
   "execution_count": 2,
   "metadata": {
    "collapsed": true
   },
   "outputs": [],
   "source": [
    "%matplotlib inline"
   ]
  },
  {
   "cell_type": "code",
   "execution_count": 3,
   "metadata": {
    "collapsed": true
   },
   "outputs": [],
   "source": [
    "def rmsle(h, y): \n",
    "    \"\"\"\n",
    "    Compute the Root Mean Squared Log Error for hypthesis h and targets y\n",
    "\n",
    "    Args:\n",
    "        h - numpy array containing predictions with shape (n_samples, n_targets)\n",
    "        y - numpy array containing targets with shape (n_samples, n_targets)\n",
    "    \"\"\"\n",
    "    return np.sqrt(np.square(np.log(h + 1) - np.log(y + 1)).mean())\n",
    "\n",
    "\n",
    "train = pd.read_csv(\"../data/train-290118.csv\")\n",
    "test = pd.read_csv(\"../data/test_290118.csv\")\n",
    "test_id=test.id\n",
    "\n",
    "sub = pd.DataFrame()\n",
    "sub['id'] = test_id"
   ]
  },
  {
   "cell_type": "code",
   "execution_count": 4,
   "metadata": {
    "collapsed": true
   },
   "outputs": [],
   "source": [
    "feature_fe =['avg_IP',\n",
    "             'avg_rd_max',\n",
    "             'avg_LUMO',\n",
    "             'avg_electronegativity',\n",
    "             'avg_rp_max',\n",
    "             'percent_atom_in',\n",
    "             'percent_atom_al',\n",
    "             'percent_atom_ga',\n",
    "             'dist_23',\n",
    "             'dist_25',\n",
    "             'dist_16',\n",
    "             'dist_46',\n",
    "             'dist_15',\n",
    "             'dist_40',\n",
    "             'dist_33',\n",
    "             'dist_29',\n",
    "             'dist_18',\n",
    "             'dist_8',\n",
    "             'dist_77',\n",
    "             'dist_65',\n",
    "             'dist_47',\n",
    "             'dist_20',\n",
    "             'dist_30',\n",
    "             'dist_49',\n",
    "             'path_30',\n",
    "             'path_20',\n",
    "             'path_10',\n",
    "             'path_0',\n",
    "             'path_40',\n",
    "             'path_49',\n",
    "             'angle_179',\n",
    "             'angle_86',\n",
    "             'angle_169',\n",
    "             'angle_171',\n",
    "             'angle_95',\n",
    "             'angle_93',\n",
    "             'angle_121',\n",
    "             'angle_89',\n",
    "             'angle_108',\n",
    "             'angle_91',\n",
    "             'angle_165',\n",
    "             'dihedral_75',\n",
    "             'dihedral_154',\n",
    "             'dihedral_66',\n",
    "             'dihedral_7',\n",
    "             'dihedral_178',\n",
    "             'dihedral_97',\n",
    "             'dihedral_85',\n",
    "             'dihedral_131',\n",
    "             'dihedral_24',\n",
    "             'dihedral_91',\n",
    "             'dihedral_135',\n",
    "             'dihedral_79',\n",
    "             'dihedral_177',\n",
    "             'dihedral_119',\n",
    "             'dihedral_2',\n",
    "             'A_8',\n",
    "             'A_5',\n",
    "             'A_3',\n",
    "             'A_2',\n",
    "             'A_0',\n",
    "             'A_7',\n",
    "             'A_6',\n",
    "             'A_1',\n",
    "             'A_4',\n",
    "             'B_8',\n",
    "             'B_6',\n",
    "             'B_5',\n",
    "             'B_2',\n",
    "             'B_3',\n",
    "             'B_1',\n",
    "             'B_0',\n",
    "             'B_7',\n",
    "             'B_4',\n",
    "             'R_1',\n",
    "             'R_2',\n",
    "             'R_0',\n",
    "             'r_2',\n",
    "             'r_1',\n",
    "             'r_0',\n",
    "             'lattice_angle_sum_discrete_215',\n",
    "             'lattice_angle_sum_discrete_270',\n",
    "             'lattice_angle_sum_discrete_285',\n",
    "             'lattice_angle_sum_discrete_300',\n",
    "             'clusters_0',\n",
    "             'clusters_1',\n",
    "             'clusters_2',\n",
    "             'clusters_3',\n",
    "             'clusters_4',\n",
    "             'clusters_5',\n",
    "             'clusters_6',\n",
    "             'clusters_7',\n",
    "             'clusters_8',\n",
    "             'clusters_9',\n",
    "             'clusters_10']"
   ]
  },
  {
   "cell_type": "code",
   "execution_count": 6,
   "metadata": {},
   "outputs": [],
   "source": [
    "feature_be = ['avg_HOMO',\n",
    "             'avg_mass',\n",
    "             'avg_IP',\n",
    "             'percent_atom_in',\n",
    "             'percent_atom_al',\n",
    "             'percent_atom_ga',\n",
    "             'dist_16',\n",
    "             'dist_17',\n",
    "             'dist_21',\n",
    "             'dist_11',\n",
    "             'dist_15',\n",
    "             'dist_18',\n",
    "             'dist_42',\n",
    "             'dist_19',\n",
    "             'dist_8',\n",
    "             'dist_9',\n",
    "             'path_20',\n",
    "             'path_40',\n",
    "             'path_0',\n",
    "             'path_49',\n",
    "             'path_30',\n",
    "             'path_10',\n",
    "             'angle_84',\n",
    "             'angle_95',\n",
    "             'angle_123',\n",
    "             'angle_118',\n",
    "             'angle_102',\n",
    "             'angle_78',\n",
    "             'angle_126',\n",
    "             'angle_97',\n",
    "             'angle_94',\n",
    "             'angle_86',\n",
    "             'angle_101',\n",
    "             'angle_169',\n",
    "             'dihedral_39',\n",
    "             'dihedral_130',\n",
    "             'dihedral_48',\n",
    "             'dihedral_118',\n",
    "             'dihedral_89',\n",
    "             'dihedral_49',\n",
    "             'dihedral_129',\n",
    "             'dihedral_76',\n",
    "             'dihedral_40',\n",
    "             'dihedral_79',\n",
    "             'dihedral_29',\n",
    "             'dihedral_99',\n",
    "             'dihedral_134',\n",
    "             'dihedral_2',\n",
    "             'dihedral_132',\n",
    "             'dihedral_135',\n",
    "             'dihedral_20',\n",
    "             'dihedral_114',\n",
    "             'dihedral_74',\n",
    "             'dihedral_107',\n",
    "             'A_8',\n",
    "             'A_0',\n",
    "             'A_2',\n",
    "             'A_4',\n",
    "             'A_1',\n",
    "             'A_5',\n",
    "             'A_7',\n",
    "             'B_0',\n",
    "             'B_8',\n",
    "             'B_4',\n",
    "             'B_2',\n",
    "             'B_1',\n",
    "             'B_3',\n",
    "             'R_2',\n",
    "             'R_1',\n",
    "             'R_0',\n",
    "             'r_2',\n",
    "             'r_0',\n",
    "             'r_1',\n",
    "             'number_of_total_atoms_30.0',\n",
    "             'number_of_total_atoms_40.0',\n",
    "             'number_of_total_atoms_80.0',\n",
    "             'number_of_total_atoms_60.0',\n",
    "             'spacegroup_167',\n",
    "             'spacegroup_227',\n",
    "             'spacegroup_194',\n",
    "             'spacegroup_12',\n",
    "             'lattice_angle_sum_discrete_215',\n",
    "             'lattice_angle_sum_discrete_270',\n",
    "             'lattice_angle_sum_discrete_285',\n",
    "             'clusters_0',\n",
    "             'clusters_1',\n",
    "             'clusters_2',\n",
    "             'clusters_3',\n",
    "             'clusters_4',\n",
    "             'clusters_5',\n",
    "             'clusters_6',\n",
    "             'clusters_7',\n",
    "             'clusters_8',\n",
    "             'clusters_9',\n",
    "             'clusters_10']"
   ]
  },
  {
   "cell_type": "code",
   "execution_count": 7,
   "metadata": {
    "collapsed": true
   },
   "outputs": [],
   "source": [
    "def feCatBoost(x_train, y_train,x_test, y_test,test,depth):\n",
    "    model=CatBoostRegressor(iterations=2400,\n",
    "                            learning_rate=0.01,\n",
    "                            depth=depth,\n",
    "                            loss_function='RMSE',\n",
    "                            eval_metric='RMSE',\n",
    "                            random_seed=99,\n",
    "                            l2_leaf_reg=4,\n",
    "                            od_type='Iter',\n",
    "                            task_type='CPU',\n",
    "                            od_wait=50)\n",
    "    model.fit(x_train, y_train, eval_set=(x_test, y_test), use_best_model=True, logging_level='Silent')\n",
    "    y_pred_train=model.predict(x_test)\n",
    "    rmsle_result = rmsle(y_pred_train,y_test)\n",
    "    y_pred_test=model.predict(test)\n",
    "    return y_pred_train,rmsle_result,y_pred_test"
   ]
  },
  {
   "cell_type": "code",
   "execution_count": 8,
   "metadata": {
    "collapsed": true
   },
   "outputs": [],
   "source": [
    "def beCatBoost(x_train, y_train,x_test, y_test,test,depth):\n",
    "    model=CatBoostRegressor(iterations=2500,\n",
    "                            learning_rate=0.01125,#0.01\n",
    "                            depth=depth,#5\n",
    "                            loss_function='RMSE',\n",
    "                            eval_metric='RMSE',\n",
    "                            random_seed=99,\n",
    "                            l2_leaf_reg=14,\n",
    "                            od_type='Iter',\n",
    "                            task_type='CPU',\n",
    "                            od_wait=50)\n",
    "    model.fit(x_train, y_train, eval_set=(x_test, y_test), use_best_model=True, logging_level='Silent')\n",
    "    y_pred_train=model.predict(x_test)\n",
    "    rmsle_result = rmsle(y_pred_train,y_test)\n",
    "    y_pred_test=model.predict(test)\n",
    "    return y_pred_train,rmsle_result,y_pred_test"
   ]
  },
  {
   "cell_type": "code",
   "execution_count": 9,
   "metadata": {},
   "outputs": [
    {
     "name": "stdout",
     "output_type": "stream",
     "text": [
      "this took 23.99-seconds with a validation rmsle of 0.02650\n",
      "this took 23.40-seconds with a validation rmsle of 0.02393\n",
      "this took 25.88-seconds with a validation rmsle of 0.02436\n",
      "this took 27.25-seconds with a validation rmsle of 0.02625\n"
     ]
    }
   ],
   "source": [
    "X = train[feature_fe]\n",
    "Xp = test[feature_fe]\n",
    "Y_fe = np.log(train['formation_energy_ev_natom']+1)\n",
    "\n",
    "sub['formation_energy_ev_natom'] = np.zeros_like(test_id)\n",
    "kf = model_selection.KFold(n_splits=4, shuffle=True, random_state=30)#.ShuffleSplit(n_splits=10, test_size=.1)#KFold(n_splits=10, shuffle=True, random_state=30)\n",
    "for dev_index, val_index in kf.split(X):\n",
    "    t = time.time()\n",
    "    dev_X, val_X = X.loc[dev_index], X.loc[val_index]\n",
    "    dev_y, val_y = Y_fe.loc[dev_index], Y_fe.loc[val_index]\n",
    "    y_pred_feen,rmsle_feen,y_pred_test_feen=feCatBoost(dev_X, dev_y, val_X, val_y,Xp,depth=8)\n",
    "    sub['formation_energy_ev_natom'] += ((np.exp(y_pred_test_feen)-1)/4)\n",
    "    print('this took {0:.02f}-seconds with a validation rmsle of {1:0.5f}'.format(time.time()-t, rmsle_feen))"
   ]
  },
  {
   "cell_type": "code",
   "execution_count": 10,
   "metadata": {},
   "outputs": [
    {
     "name": "stdout",
     "output_type": "stream",
     "text": [
      "this took 8.02-seconds with a validation rmsle of 0.04262\n",
      "this took 7.88-seconds with a validation rmsle of 0.04323\n",
      "this took 6.30-seconds with a validation rmsle of 0.05100\n",
      "this took 6.55-seconds with a validation rmsle of 0.04043\n"
     ]
    }
   ],
   "source": [
    "X = train[feature_be]\n",
    "Xp = test[feature_be]\n",
    "Y_be = np.log(train['bandgap_energy_ev']+1)\n",
    "\n",
    "sub['bandgap_energy_ev'] = np.zeros_like(test_id)\n",
    "kf = model_selection.ShuffleSplit(n_splits=4, test_size=0.25, random_state=30)#.ShuffleSplit(n_splits=10, test_size=.1)#KFold(n_splits=10, shuffle=True, random_state=30)\n",
    "for dev_index, val_index in kf.split(X):\n",
    "    t = time.time()\n",
    "    dev_X, val_X = X.loc[dev_index], X.loc[val_index]\n",
    "    dev_y, val_y = Y_be.loc[dev_index], Y_be.loc[val_index]\n",
    "    y_pred_feen,rmsle_feen,y_pred_test_been=beCatBoost(dev_X, dev_y, val_X, val_y,Xp,depth=5)\n",
    "    sub['bandgap_energy_ev'] += ((np.exp(y_pred_test_been)-1)/4)\n",
    "    print('this took {0:.02f}-seconds with a validation rmsle of {1:0.5f}'.format(time.time()-t, rmsle_feen))"
   ]
  },
  {
   "cell_type": "code",
   "execution_count": 14,
   "metadata": {
    "collapsed": true
   },
   "outputs": [],
   "source": [
    "sub.id = sub.id.astype('Int32')\n",
    "sub.to_csv('../output/feb10_predictions_2004.csv', index=False)"
   ]
  },
  {
   "cell_type": "code",
   "execution_count": 15,
   "metadata": {
    "collapsed": true
   },
   "outputs": [],
   "source": [
    "sample_df = pd.read_csv('../output/sample.csv')"
   ]
  },
  {
   "cell_type": "code",
   "execution_count": 16,
   "metadata": {},
   "outputs": [
    {
     "data": {
      "image/png": "[encoded data removed]",
      "text/plain": [
       "<matplotlib.figure.Figure at 0x7f594635ccf8>"
      ]
     },
     "metadata": {},
     "output_type": "display_data"
    },
    {
     "data": {
      "image/png": "[encoded data removed]",
      "text/plain": [
       "<matplotlib.figure.Figure at 0x7f5944a08c50>"
      ]
     },
     "metadata": {},
     "output_type": "display_data"
    }
   ],
   "source": [
    "import matplotlib.pyplot as plt\n",
    "\n",
    "sample_df.bandgap_energy_ev.hist(label='Sample', alpha=1,bins=60, normed=True)\n",
    "sub.bandgap_energy_ev.hist(label='Submission', alpha=0.75,bins=60, normed=True)\n",
    "train['bandgap_energy_ev'].hist(label='Target', alpha=0.65,bins=60, normed=True)\n",
    "plt.title('Bandgap Energy Predictions')\n",
    "plt.legend()\n",
    "plt.show()\n",
    "\n",
    "sample_df.formation_energy_ev_natom.hist(label='Sample', alpha=1,bins=60, normed=True)\n",
    "sub['formation_energy_ev_natom'].hist(label='Submission', alpha=0.75,bins=60, normed=True)\n",
    "train['formation_energy_ev_natom'].hist(label='Target', alpha=0.65,bins=60, normed=True)\n",
    "plt.title('Formation Energy Predictions')\n",
    "plt.legend()\n",
    "plt.show()\n",
    "\n"
   ]
  },
  {
   "cell_type": "code",
   "execution_count": null,
   "metadata": {
    "collapsed": true
   },
   "outputs": [],
   "source": []
  }
 ],
 "metadata": {
  "kernelspec": {
   "display_name": "Python 3",
   "language": "python",
   "name": "python3"
  },
  "language_info": {
   "codemirror_mode": {
    "name": "ipython",
    "version": 3
   },
   "file_extension": ".py",
   "mimetype": "text/x-python",
   "name": "python",
   "nbconvert_exporter": "python",
   "pygments_lexer": "ipython3",
   "version": "3.6.4"
  }
 },
 "nbformat": 4,
 "nbformat_minor": 2
}
